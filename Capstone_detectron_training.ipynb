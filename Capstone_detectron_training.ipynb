{
  "cells": [
    {
      "cell_type": "markdown",
      "metadata": {
        "id": "RQtMfzP5eqdA"
      },
      "source": [
        "#Mount gogle drive, install dependancies and import libraries"
      ]
    },
    {
      "cell_type": "code",
      "execution_count": null,
      "metadata": {
        "id": "-ODJbZfKeh_e"
      },
      "outputs": [],
      "source": [
        "from google.colab import drive\n",
        "drive.mount('/content/drive')"
      ]
    },
    {
      "cell_type": "code",
      "execution_count": null,
      "metadata": {
        "id": "CEVCSzJtdIjv"
      },
      "outputs": [],
      "source": [
        "# install dependencies: (use cu101 because colab has CUDA 10.1)\n",
        "!pip install -U torch==1.5 torchvision==0.6 -f https://download.pytorch.org/whl/cu101/torch_stable.html \n",
        "!pip install cython pyyaml==5.1\n",
        "!pip install -U 'git+https://github.com/cocodataset/cocoapi.git#subdirectory=PythonAPI'\n",
        "import torch, torchvision\n",
        "print(torch.__version__, torch.cuda.is_available())\n",
        "!gcc --version\n",
        "# install detectron2:\n",
        "!pip install detectron2==0.1.3 -f https://dl.fbaipublicfiles.com/detectron2/wheels/cu101/torch1.5/index.html"
      ]
    },
    {
      "cell_type": "code",
      "execution_count": null,
      "metadata": {
        "id": "xylgVyBDdRZj"
      },
      "outputs": [],
      "source": [
        "import detectron2\n",
        "from detectron2.utils.logger import setup_logger\n",
        "setup_logger()\n",
        "\n",
        "import numpy as np\n",
        "import cv2\n",
        "import random\n",
        "from google.colab.patches import cv2_imshow\n",
        "\n",
        "from detectron2 import model_zoo\n",
        "from detectron2.engine import DefaultPredictor\n",
        "from detectron2.config import get_cfg\n",
        "from detectron2.utils.visualizer import Visualizer\n",
        "from detectron2.data import MetadataCatalog\n",
        "from detectron2.data.catalog import DatasetCatalog"
      ]
    },
    {
      "cell_type": "markdown",
      "metadata": {
        "id": "R1og50VYdVeo"
      },
      "source": [
        "#Import dataset if using roboflow labeling service, otherwise load dataset into drive/content\n",
        "\n"
      ]
    },
    {
      "cell_type": "code",
      "execution_count": null,
      "metadata": {
        "id": "SBFbLagpdgVJ"
      },
      "outputs": [],
      "source": [
        "!curl -L \"{DATASET URL}\" > roboflow.zip; unzip roboflow.zip; rm roboflow.zip"
      ]
    },
    {
      "cell_type": "markdown",
      "metadata": {
        "id": "c5EAqStDeCj_"
      },
      "source": [
        "#Register coco datasets"
      ]
    },
    {
      "cell_type": "code",
      "execution_count": null,
      "metadata": {
        "id": "Bs65-aUmdifS"
      },
      "outputs": [],
      "source": [
        "from detectron2.data.datasets import register_coco_instances\n",
        "register_coco_instances(\"my_dataset_train\", {}, \"/content/train/_annotations.coco.json\", \"/content/train\"\")\n",
        "register_coco_instances(\"my_dataset_val\", {}, \"/content/val/_annotations.coco.json\", \"/content/val\"\")\n",
        "register_coco_instances(\"my_dataset_test\", {}, \"/content/test/_annotations.coco.json\", \"/content/test\")"
      ]
    },
    {
      "cell_type": "markdown",
      "metadata": {
        "id": "lsxBeyUseGEe"
      },
      "source": [
        "#Create validation class"
      ]
    },
    {
      "cell_type": "code",
      "execution_count": null,
      "metadata": {
        "id": "DtKST8uEdqfy"
      },
      "outputs": [],
      "source": [
        "from detectron2.engine import DefaultTrainer\n",
        "from detectron2.evaluation import COCOEvaluator\n",
        "\n",
        "class CocoTrainer(DefaultTrainer):\n",
        "\n",
        "  @classmethod\n",
        "  def build_evaluator(cls, cfg, dataset_name, output_folder=None):\n",
        "      \"\"\"\n",
        "      Method to build the COCO evaluator\n",
        "\n",
        "      Parameters:\n",
        "      cfg (CfgNode): Configuration for the training process\n",
        "      dataset_name (str): Name of the dataset to evaluate on\n",
        "      output_folder (str): Output folder to save results, default is None\n",
        "\n",
        "      Returns:\n",
        "      COCOEvaluator: Instance of COCOEvaluator\n",
        "      \"\"\"\n",
        "    # If no output folder is provided, create one with name \"coco_eval\"\n",
        "      if output_folder is None:\n",
        "          os.makedirs(\"coco_eval\", exist_ok=True)\n",
        "          output_folder = \"coco_eval\"\n",
        "      # Return an instance of COCOEvaluator \n",
        "      return COCOEvaluator(dataset_name, cfg, False, output_folder)\n",
        "    \n"
      ]
    },
    {
      "cell_type": "markdown",
      "metadata": {
        "id": "-G2mfwbneK4r"
      },
      "source": [
        "#Initialize model and create output directories "
      ]
    },
    {
      "cell_type": "code",
      "execution_count": null,
      "metadata": {
        "id": "rVgKgzQXdrC9"
      },
      "outputs": [],
      "source": [
        "import os\n",
        "from detectron2.config import get_cfg\n",
        "\n",
        "# Configuring the model\n",
        "cfg = get_cfg()\n",
        "\n",
        "# Loading the configuration file for the model from the model zoo\n",
        "cfg.merge_from_file(model_zoo.get_config_file(\"COCO-Detection/faster_rcnn_X_101_32x8d_FPN_3x.yaml\"))\n",
        "\n",
        "# Setting the training and validation datasets\n",
        "cfg.DATASETS.TRAIN = (\"my_dataset_train\",)\n",
        "cfg.DATASETS.TEST = (\"my_dataset_val\",)\n",
        "\n",
        "# Setting the number of workers for data loading\n",
        "cfg.DATALOADER.NUM_WORKERS = 4\n",
        "\n",
        "# Setting the weights for the model, initialized from the model zoo\n",
        "cfg.MODEL.WEIGHTS = model_zoo.get_checkpoint_url(\"COCO-Detection/faster_rcnn_X_101_32x8d_FPN_3x.yaml\")\n",
        "\n",
        "# Setting the solver parameters\n",
        "cfg.SOLVER.IMS_PER_BATCH = 4\n",
        "cfg.SOLVER.BASE_LR = 0.001\n",
        "cfg.SOLVER.WARMUP_ITERS = 1000\n",
        "cfg.SOLVER.MAX_ITER = 1500\n",
        "cfg.SOLVER.STEPS = (1000, 1500)\n",
        "cfg.SOLVER.GAMMA = 0.05\n",
        "\n",
        "# Setting the parameters for ROI heads\n",
        "cfg.MODEL.ROI_HEADS.BATCH_SIZE_PER_IMAGE = 64\n",
        "cfg.MODEL.ROI_HEADS.NUM_CLASSES = 4  # Number of classes + 1\n",
        "\n",
        "# Setting the evaluation period for testing\n",
        "cfg.TEST.EVAL_PERIOD = 500\n",
        "\n",
        "# Creating the output directory if it doesn't exist\n",
        "os.makedirs(cfg.OUTPUT_DIR, exist_ok=True)\n",
        "\n",
        "# Initializing the trainer\n",
        "trainer = CocoTrainer(cfg)\n",
        "\n",
        "# Resuming from a checkpoint or loading from scratch\n",
        "trainer.resume_or_load(resume=False)"
      ]
    },
    {
      "cell_type": "markdown",
      "metadata": {
        "id": "S-UyE6N9eQCO"
      },
      "source": [
        "#Train model and copy to google drive when finished. CHANGE YOUR DRIVE PATH"
      ]
    },
    {
      "cell_type": "code",
      "execution_count": null,
      "metadata": {
        "id": "VsIF4ogYd1cD"
      },
      "outputs": [],
      "source": [
        "# Run trainer\n",
        "trainer.train()\n",
        "!cp -r /content/output/model_final.pth /content/drive/MyDrive"
      ]
    },
    {
      "cell_type": "markdown",
      "metadata": {
        "id": "FmyiNpbBeV3q"
      },
      "source": [
        "#View training curves "
      ]
    },
    {
      "cell_type": "code",
      "execution_count": null,
      "metadata": {
        "id": "s_gEC5qld5qu"
      },
      "outputs": [],
      "source": [
        "# Look at training curves in tensorboard:\n",
        "%load_ext tensorboard\n",
        "%tensorboard --logdir output"
      ]
    },
    {
      "cell_type": "markdown",
      "metadata": {
        "id": "6VNC40SNeYPE"
      },
      "source": [
        "# Evaluate performance on test data"
      ]
    },
    {
      "cell_type": "code",
      "execution_count": null,
      "metadata": {
        "id": "sNVMYvh8d7T8"
      },
      "outputs": [],
      "source": [
        "#test evaluation\n",
        "from detectron2.data import DatasetCatalog, MetadataCatalog, build_detection_test_loader\n",
        "from detectron2.evaluation import COCOEvaluator, inference_on_dataset\n",
        "\n",
        "# Setting the weights for the final model\n",
        "cfg.MODEL.WEIGHTS = os.path.join(cfg.OUTPUT_DIR, \"model_final.pth\")\n",
        "\n",
        "# Setting the score threshold for testing\n",
        "cfg.MODEL.ROI_HEADS.SCORE_THRESH_TEST = 0.85\n",
        "\n",
        "# Creating a predictor using the configuration\n",
        "predictor = DefaultPredictor(cfg)\n",
        "\n",
        "# Initializing the COCO evaluator\n",
        "evaluator = COCOEvaluator(\"my_dataset_test\", cfg, False, output_dir=\"./output/\")\n",
        "\n",
        "# Building the test data loader\n",
        "val_loader = build_detection_test_loader(cfg, \"my_dataset_test\")\n",
        "\n",
        "# Evaluating the model on the test dataset\n",
        "inference_on_dataset(trainer.model, val_loader, evaluator)"
      ]
    }
  ],
  "metadata": {
    "accelerator": "GPU",
    "colab": {
      "provenance": []
    },
    "gpuClass": "standard",
    "kernelspec": {
      "display_name": "Python 3",
      "name": "python3"
    },
    "language_info": {
      "name": "python"
    }
  },
  "nbformat": 4,
  "nbformat_minor": 0
}